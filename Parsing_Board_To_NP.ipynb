{
 "cells": [
  {
   "cell_type": "code",
   "execution_count": 1,
   "id": "5846c1f2",
   "metadata": {},
   "outputs": [],
   "source": [
    "import tensorflow as tf\n",
    "import numpy as np\n",
    "import os\n",
    "import chess"
   ]
  },
  {
   "cell_type": "code",
   "execution_count": 2,
   "id": "945440ae",
   "metadata": {},
   "outputs": [],
   "source": [
    "def convert_to_int(board):\n",
    "    indices = '♚♛♜♝♞♟⭘♙♘♗♖♕♔'\n",
    "    unicode = board.unicode()\n",
    "    return np.array([\n",
    "        [indices.index(c)-6 for c in row.split()]\n",
    "        for row in unicode.split('\\n')\n",
    "    ])"
   ]
  },
  {
   "cell_type": "code",
   "execution_count": 3,
   "id": "3a085856",
   "metadata": {},
   "outputs": [],
   "source": [
    "def board_pos_to_chess_model(fname):\n",
    "    with open(fname) as f:\n",
    "        board_list = f.read().splitlines()\n",
    "        \n",
    "        final_board_list = []\n",
    "    for single_board in board_list:\n",
    "        chess_board = chess.Board(single_board)\n",
    "        int_board = convert_to_int(chess_board)\n",
    "        final_board_list.append(int_board)\n",
    "        \n",
    "    return final_board_list"
   ]
  },
  {
   "cell_type": "code",
   "execution_count": 11,
   "id": "20e88042",
   "metadata": {},
   "outputs": [],
   "source": [
    "test_file = '/home/Chess-Piece-Threat-Detection/dataset/test.txt'\n",
    "train_file = '/home/Chess-Piece-Threat-Detection/dataset/train.txt'\n",
    "data_file = '/home/Chess-Piece-Threat-Detection/dataset/data.txt'"
   ]
  },
  {
   "cell_type": "code",
   "execution_count": 12,
   "id": "edf12e38",
   "metadata": {},
   "outputs": [],
   "source": [
    "data_list = board_pos_to_chess_model(data_file)"
   ]
  },
  {
   "cell_type": "code",
   "execution_count": 15,
   "id": "2cfaaceb",
   "metadata": {},
   "outputs": [],
   "source": [
    "np_data_list = np.asarray(data_list)"
   ]
  },
  {
   "cell_type": "code",
   "execution_count": 16,
   "id": "8ebc94ed",
   "metadata": {},
   "outputs": [
    {
     "name": "stdout",
     "output_type": "stream",
     "text": [
      "The shape of training list is (100000, 8, 8) and its size is 6400000\n"
     ]
    }
   ],
   "source": [
    "print(f'The shape of training list is {np_data_list.shape} and its size is {np_data_list.size}')"
   ]
  },
  {
   "cell_type": "code",
   "execution_count": 19,
   "id": "5140ed0e",
   "metadata": {},
   "outputs": [],
   "source": [
    "np.save('/home/Chess-Piece-Threat-Detection/dataset/int-boards/data', np_data_list)"
   ]
  }
 ],
 "metadata": {
  "kernelspec": {
   "display_name": "Python 3",
   "language": "python",
   "name": "python3"
  },
  "language_info": {
   "codemirror_mode": {
    "name": "ipython",
    "version": 3
   },
   "file_extension": ".py",
   "mimetype": "text/x-python",
   "name": "python",
   "nbconvert_exporter": "python",
   "pygments_lexer": "ipython3",
   "version": "3.6.9"
  }
 },
 "nbformat": 4,
 "nbformat_minor": 5
}
