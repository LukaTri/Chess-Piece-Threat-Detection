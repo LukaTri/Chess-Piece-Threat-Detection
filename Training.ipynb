{
 "cells": [
  {
   "cell_type": "code",
   "execution_count": 1,
   "id": "9c5819fc",
   "metadata": {},
   "outputs": [],
   "source": [
    "import time\n",
    "import numpy as np\n",
    "import matplotlib.pyplot as plt\n",
    "import tensorflow as tf\n",
    "from tensorflow import keras\n",
    "from tensorflow.keras.layers import Dense, Conv2D, Flatten, BatchNormalization, Dropout, MaxPooling2D\n",
    "from tensorflow.keras.callbacks import EarlyStopping\n",
    "from sklearn.model_selection import train_test_split"
   ]
  },
  {
   "cell_type": "code",
   "execution_count": 2,
   "id": "d21f444e",
   "metadata": {},
   "outputs": [],
   "source": [
    "X_filepath = '/home/Chess-Piece-Threat-Detection/dataset/int-boards/data.npy'\n",
    "y_filepath = '/home/Chess-Piece-Threat-Detection/dataset/int-boards/data_labels.npy'"
   ]
  },
  {
   "cell_type": "code",
   "execution_count": 3,
   "id": "9fe80cf0",
   "metadata": {},
   "outputs": [],
   "source": [
    "y = np.load(y_filepath)\n",
    "X = np.load(X_filepath)"
   ]
  },
  {
   "cell_type": "code",
   "execution_count": 4,
   "id": "acb1cb52",
   "metadata": {},
   "outputs": [],
   "source": [
    "X_train, X_test, y_train, y_test = train_test_split(X, y, test_size=0.2, random_state=42)"
   ]
  },
  {
   "cell_type": "code",
   "execution_count": 5,
   "id": "4d99055d",
   "metadata": {},
   "outputs": [],
   "source": [
    "X_train = X_train / 5\n",
    "X_test = X_test / 5"
   ]
  },
  {
   "cell_type": "code",
   "execution_count": 6,
   "id": "bbbaa025",
   "metadata": {},
   "outputs": [],
   "source": [
    "X_train = X_train.reshape(80000, 8, 8, 1)\n",
    "X_test = X_test.reshape(20000, 8, 8, 1)"
   ]
  },
  {
   "cell_type": "code",
   "execution_count": 7,
   "id": "511ac64f",
   "metadata": {},
   "outputs": [],
   "source": [
    "#Original Model:\n",
    "original_model = keras.Sequential()\n",
    "original_model.add(Conv2D(128, input_shape=(8, 8, 1), padding='same', kernel_size=4, activation='LeakyReLU'))\n",
    "original_model.add(Conv2D(128, kernel_size=4, padding='same', activation='LeakyReLU'))\n",
    "original_model.add(Conv2D(32, kernel_size=4, padding='same', activation='LeakyReLU'))\n",
    "original_model.add(Flatten())\n",
    "original_model.add(Dense(6, activation='softmax'))"
   ]
  },
  {
   "cell_type": "code",
   "execution_count": 8,
   "id": "a39c842c",
   "metadata": {},
   "outputs": [
    {
     "name": "stdout",
     "output_type": "stream",
     "text": [
      "Model: \"sequential\"\n",
      "_________________________________________________________________\n",
      "Layer (type)                 Output Shape              Param #   \n",
      "=================================================================\n",
      "conv2d (Conv2D)              (None, 8, 8, 128)         2176      \n",
      "_________________________________________________________________\n",
      "conv2d_1 (Conv2D)            (None, 8, 8, 128)         262272    \n",
      "_________________________________________________________________\n",
      "conv2d_2 (Conv2D)            (None, 8, 8, 32)          65568     \n",
      "_________________________________________________________________\n",
      "flatten (Flatten)            (None, 2048)              0         \n",
      "_________________________________________________________________\n",
      "dense (Dense)                (None, 6)                 12294     \n",
      "=================================================================\n",
      "Total params: 342,310\n",
      "Trainable params: 342,310\n",
      "Non-trainable params: 0\n",
      "_________________________________________________________________\n"
     ]
    }
   ],
   "source": [
    "original_model.summary()"
   ]
  },
  {
   "cell_type": "code",
   "execution_count": 9,
   "id": "ddd70e76",
   "metadata": {},
   "outputs": [],
   "source": [
    "es = EarlyStopping(monitor='val_loss', patience=5)"
   ]
  },
  {
   "cell_type": "code",
   "execution_count": 10,
   "id": "19c654f0",
   "metadata": {},
   "outputs": [],
   "source": [
    "original_model.compile(loss='binary_crossentropy', optimizer='adam', metrics=['accuracy'])"
   ]
  },
  {
   "cell_type": "code",
   "execution_count": 11,
   "id": "9a8c09f5",
   "metadata": {},
   "outputs": [
    {
     "name": "stdout",
     "output_type": "stream",
     "text": [
      "Epoch 1/100\n",
      "250/250 [==============================] - 126s 404ms/step - loss: 0.5586 - accuracy: 0.1713 - val_loss: 0.5365 - val_accuracy: 0.1832\n",
      "Epoch 2/100\n",
      "250/250 [==============================] - 97s 387ms/step - loss: 0.5309 - accuracy: 0.2010 - val_loss: 0.5231 - val_accuracy: 0.2399\n",
      "Epoch 3/100\n",
      "250/250 [==============================] - 97s 390ms/step - loss: 0.5131 - accuracy: 0.2230 - val_loss: 0.5085 - val_accuracy: 0.2661\n",
      "Epoch 4/100\n",
      "250/250 [==============================] - 98s 391ms/step - loss: 0.4980 - accuracy: 0.2366 - val_loss: 0.4970 - val_accuracy: 0.2266\n",
      "Epoch 5/100\n",
      "250/250 [==============================] - 100s 399ms/step - loss: 0.4879 - accuracy: 0.2457 - val_loss: 0.4887 - val_accuracy: 0.2231\n",
      "Epoch 6/100\n",
      "250/250 [==============================] - 97s 388ms/step - loss: 0.4795 - accuracy: 0.2554 - val_loss: 0.4763 - val_accuracy: 0.2462\n",
      "Epoch 7/100\n",
      "250/250 [==============================] - 97s 388ms/step - loss: 0.4710 - accuracy: 0.2711 - val_loss: 0.4701 - val_accuracy: 0.2744\n",
      "Epoch 8/100\n",
      "250/250 [==============================] - 97s 387ms/step - loss: 0.4614 - accuracy: 0.2888 - val_loss: 0.4698 - val_accuracy: 0.3124\n",
      "Epoch 9/100\n",
      "250/250 [==============================] - 97s 388ms/step - loss: 0.4542 - accuracy: 0.2982 - val_loss: 0.4600 - val_accuracy: 0.2588\n",
      "Epoch 10/100\n",
      "250/250 [==============================] - 97s 388ms/step - loss: 0.4477 - accuracy: 0.3128 - val_loss: 0.4570 - val_accuracy: 0.2644\n",
      "Epoch 11/100\n",
      "250/250 [==============================] - 97s 388ms/step - loss: 0.4404 - accuracy: 0.3251 - val_loss: 0.4545 - val_accuracy: 0.3972\n",
      "Epoch 12/100\n",
      "250/250 [==============================] - 97s 388ms/step - loss: 0.4335 - accuracy: 0.3356 - val_loss: 0.4413 - val_accuracy: 0.3067\n",
      "Epoch 13/100\n",
      "250/250 [==============================] - 99s 398ms/step - loss: 0.4266 - accuracy: 0.3439 - val_loss: 0.4390 - val_accuracy: 0.3620\n",
      "Epoch 14/100\n",
      "250/250 [==============================] - 97s 387ms/step - loss: 0.4198 - accuracy: 0.3561 - val_loss: 0.4365 - val_accuracy: 0.2828\n",
      "Epoch 15/100\n",
      "250/250 [==============================] - 97s 388ms/step - loss: 0.4128 - accuracy: 0.3649 - val_loss: 0.4270 - val_accuracy: 0.3272\n",
      "Epoch 16/100\n",
      "250/250 [==============================] - 97s 388ms/step - loss: 0.4067 - accuracy: 0.3740 - val_loss: 0.4340 - val_accuracy: 0.4129\n",
      "Epoch 17/100\n",
      "250/250 [==============================] - 97s 388ms/step - loss: 0.4019 - accuracy: 0.3806 - val_loss: 0.4289 - val_accuracy: 0.3420\n",
      "Epoch 18/100\n",
      "250/250 [==============================] - 97s 388ms/step - loss: 0.3949 - accuracy: 0.3894 - val_loss: 0.4222 - val_accuracy: 0.3243\n",
      "Epoch 19/100\n",
      "250/250 [==============================] - 97s 388ms/step - loss: 0.3886 - accuracy: 0.3960 - val_loss: 0.4205 - val_accuracy: 0.4325\n",
      "Epoch 20/100\n",
      "250/250 [==============================] - 99s 398ms/step - loss: 0.3858 - accuracy: 0.4006 - val_loss: 0.4257 - val_accuracy: 0.4757\n",
      "Epoch 21/100\n",
      "250/250 [==============================] - 97s 388ms/step - loss: 0.3793 - accuracy: 0.4061 - val_loss: 0.4145 - val_accuracy: 0.4101\n",
      "Epoch 22/100\n",
      "250/250 [==============================] - 97s 388ms/step - loss: 0.3740 - accuracy: 0.4108 - val_loss: 0.4090 - val_accuracy: 0.3626\n",
      "Epoch 23/100\n",
      "250/250 [==============================] - 99s 398ms/step - loss: 0.3698 - accuracy: 0.4168 - val_loss: 0.4105 - val_accuracy: 0.4078\n",
      "Epoch 24/100\n",
      "250/250 [==============================] - 97s 388ms/step - loss: 0.3646 - accuracy: 0.4203 - val_loss: 0.4130 - val_accuracy: 0.4588\n",
      "Epoch 25/100\n",
      "250/250 [==============================] - 97s 388ms/step - loss: 0.3608 - accuracy: 0.4212 - val_loss: 0.4094 - val_accuracy: 0.4378\n",
      "Epoch 26/100\n",
      "250/250 [==============================] - 97s 388ms/step - loss: 0.3576 - accuracy: 0.4256 - val_loss: 0.4032 - val_accuracy: 0.3838\n",
      "Epoch 27/100\n",
      "250/250 [==============================] - 97s 388ms/step - loss: 0.3513 - accuracy: 0.4286 - val_loss: 0.4002 - val_accuracy: 0.4145\n",
      "Epoch 28/100\n",
      "250/250 [==============================] - 97s 388ms/step - loss: 0.3476 - accuracy: 0.4316 - val_loss: 0.4002 - val_accuracy: 0.3898\n",
      "Epoch 29/100\n",
      "250/250 [==============================] - 97s 387ms/step - loss: 0.3440 - accuracy: 0.4350 - val_loss: 0.3967 - val_accuracy: 0.3926\n",
      "Epoch 30/100\n",
      "250/250 [==============================] - 96s 386ms/step - loss: 0.3393 - accuracy: 0.4391 - val_loss: 0.4014 - val_accuracy: 0.4086\n",
      "Epoch 31/100\n",
      "250/250 [==============================] - 96s 385ms/step - loss: 0.3376 - accuracy: 0.4409 - val_loss: 0.4042 - val_accuracy: 0.4039\n",
      "Epoch 32/100\n",
      "250/250 [==============================] - 96s 386ms/step - loss: 0.3338 - accuracy: 0.4419 - val_loss: 0.3976 - val_accuracy: 0.4257\n",
      "Epoch 33/100\n",
      "250/250 [==============================] - 96s 385ms/step - loss: 0.3304 - accuracy: 0.4459 - val_loss: 0.4113 - val_accuracy: 0.4104\n",
      "Epoch 34/100\n",
      "250/250 [==============================] - 96s 386ms/step - loss: 0.3259 - accuracy: 0.4481 - val_loss: 0.4013 - val_accuracy: 0.3988\n"
     ]
    }
   ],
   "source": [
    "original_startTime = time.time()\n",
    "original_history = original_model.fit(X_train, y_train, epochs=100, batch_size=256, verbose=1, validation_split=0.2, callbacks=[es])"
   ]
  },
  {
   "cell_type": "code",
   "execution_count": 12,
   "id": "fb592f80",
   "metadata": {},
   "outputs": [
    {
     "name": "stdout",
     "output_type": "stream",
     "text": [
      "Execution time in seconds for original_model: 3336.126036643982\n"
     ]
    }
   ],
   "source": [
    "original_executionTime = (time.time() - original_startTime)\n",
    "print('Execution time in seconds for original_model: ' + str(original_executionTime))"
   ]
  },
  {
   "cell_type": "code",
   "execution_count": 13,
   "id": "2826b457",
   "metadata": {},
   "outputs": [
    {
     "name": "stdout",
     "output_type": "stream",
     "text": [
      "115/115 [==============================] - 11s 82ms/step - loss: 0.4032 - accuracy: 0.3927\n"
     ]
    },
    {
     "data": {
      "text/plain": [
       "[0.40319469571113586, 0.39274999499320984]"
      ]
     },
     "execution_count": 13,
     "metadata": {},
     "output_type": "execute_result"
    }
   ],
   "source": [
    "original_model.evaluate(X_test, y_test, batch_size=175, verbose=1)"
   ]
  },
  {
   "cell_type": "code",
   "execution_count": 24,
   "id": "cadd0f41",
   "metadata": {},
   "outputs": [
    {
     "name": "stdout",
     "output_type": "stream",
     "text": [
      "[1.3933507e-02 7.4667612e-04 9.4675040e-01 1.0069958e-02 1.6619106e-04\n",
      " 2.8333193e-02]\n",
      "[1. 0. 1. 1. 0. 0.]\n"
     ]
    }
   ],
   "source": [
    "original_predictions = original_model.predict(X_test)\n",
    "print(original_predictions[42])\n",
    "print(y_test[42])"
   ]
  },
  {
   "cell_type": "code",
   "execution_count": 15,
   "id": "de2908da",
   "metadata": {},
   "outputs": [
    {
     "data": {
      "text/plain": [
       "Text(0,0.5,'Loss Value')"
      ]
     },
     "execution_count": 15,
     "metadata": {},
     "output_type": "execute_result"
    },
    {
     "data": {
      "image/png": "[encoded data removed]",
      "text/plain": [
       "<matplotlib.figure.Figure at 0x7e6c138dd8>"
      ]
     },
     "metadata": {
      "needs_background": "light"
     },
     "output_type": "display_data"
    }
   ],
   "source": [
    "plt.plot(original_history.history['loss'], label='loss')\n",
    "plt.plot(original_history.history['val_loss'], label='validation')\n",
    "plt.legend()\n",
    "plt.xlabel('Epoch')\n",
    "plt.ylabel('Loss Value')"
   ]
  },
  {
   "cell_type": "code",
   "execution_count": 16,
   "id": "b8e65916",
   "metadata": {},
   "outputs": [],
   "source": [
    "#AlexNet-Based Model:\n",
    "model = keras.Sequential()\n",
    "\n",
    "model.add(Conv2D(32, input_shape=(8, 8, 1), padding='same', kernel_size=11, activation='LeakyReLU'))\n",
    "model.add(BatchNormalization())\n",
    "model.add(MaxPooling2D(2))\n",
    "model.add(Dropout(0.4))\n",
    "model.add(Conv2D(64, kernel_size=8, padding='same', activation='LeakyReLU'))\n",
    "model.add(BatchNormalization())\n",
    "model.add(MaxPooling2D(2))\n",
    "model.add(Dropout(0.4))\n",
    "model.add(Conv2D(128, kernel_size=8, padding='same', activation='LeakyReLU'))\n",
    "model.add(BatchNormalization())\n",
    "model.add(Dropout(0.4))\n",
    "model.add(Conv2D(128, kernel_size=6, padding='same', activation='LeakyReLU'))\n",
    "model.add(BatchNormalization())\n",
    "model.add(Dropout(0.4))\n",
    "model.add(Conv2D(64, kernel_size=4, padding='same', activation='LeakyReLU'))\n",
    "model.add(BatchNormalization())\n",
    "model.add(MaxPooling2D(2))\n",
    "model.add(Flatten())\n",
    "\n",
    "model.add(Dense(2048, activation='relu'))\n",
    "model.add(Dense(2048, activation='relu'))\n",
    "\n",
    "model.add(Dense(6, activation='softmax'))"
   ]
  },
  {
   "cell_type": "code",
   "execution_count": 17,
   "id": "b54f720e",
   "metadata": {},
   "outputs": [
    {
     "name": "stdout",
     "output_type": "stream",
     "text": [
      "Model: \"sequential_1\"\n",
      "_________________________________________________________________\n",
      "Layer (type)                 Output Shape              Param #   \n",
      "=================================================================\n",
      "conv2d_3 (Conv2D)            (None, 8, 8, 32)          3904      \n",
      "_________________________________________________________________\n",
      "batch_normalization (BatchNo (None, 8, 8, 32)          128       \n",
      "_________________________________________________________________\n",
      "max_pooling2d (MaxPooling2D) (None, 4, 4, 32)          0         \n",
      "_________________________________________________________________\n",
      "dropout (Dropout)            (None, 4, 4, 32)          0         \n",
      "_________________________________________________________________\n",
      "conv2d_4 (Conv2D)            (None, 4, 4, 64)          131136    \n",
      "_________________________________________________________________\n",
      "batch_normalization_1 (Batch (None, 4, 4, 64)          256       \n",
      "_________________________________________________________________\n",
      "max_pooling2d_1 (MaxPooling2 (None, 2, 2, 64)          0         \n",
      "_________________________________________________________________\n",
      "dropout_1 (Dropout)          (None, 2, 2, 64)          0         \n",
      "_________________________________________________________________\n",
      "conv2d_5 (Conv2D)            (None, 2, 2, 128)         524416    \n",
      "_________________________________________________________________\n",
      "batch_normalization_2 (Batch (None, 2, 2, 128)         512       \n",
      "_________________________________________________________________\n",
      "dropout_2 (Dropout)          (None, 2, 2, 128)         0         \n",
      "_________________________________________________________________\n",
      "conv2d_6 (Conv2D)            (None, 2, 2, 128)         589952    \n",
      "_________________________________________________________________\n",
      "batch_normalization_3 (Batch (None, 2, 2, 128)         512       \n",
      "_________________________________________________________________\n",
      "dropout_3 (Dropout)          (None, 2, 2, 128)         0         \n",
      "_________________________________________________________________\n",
      "conv2d_7 (Conv2D)            (None, 2, 2, 64)          131136    \n",
      "_________________________________________________________________\n",
      "batch_normalization_4 (Batch (None, 2, 2, 64)          256       \n",
      "_________________________________________________________________\n",
      "max_pooling2d_2 (MaxPooling2 (None, 1, 1, 64)          0         \n",
      "_________________________________________________________________\n",
      "flatten_1 (Flatten)          (None, 64)                0         \n",
      "_________________________________________________________________\n",
      "dense_1 (Dense)              (None, 2048)              133120    \n",
      "_________________________________________________________________\n",
      "dense_2 (Dense)              (None, 2048)              4196352   \n",
      "_________________________________________________________________\n",
      "dense_3 (Dense)              (None, 6)                 12294     \n",
      "=================================================================\n",
      "Total params: 5,723,974\n",
      "Trainable params: 5,723,142\n",
      "Non-trainable params: 832\n",
      "_________________________________________________________________\n"
     ]
    }
   ],
   "source": [
    "model.summary()"
   ]
  },
  {
   "cell_type": "code",
   "execution_count": 18,
   "id": "701a5bab",
   "metadata": {},
   "outputs": [],
   "source": [
    "model.compile(loss='binary_crossentropy', optimizer='adam', metrics=['accuracy'])"
   ]
  },
  {
   "cell_type": "code",
   "execution_count": 19,
   "id": "6fece05c",
   "metadata": {},
   "outputs": [
    {
     "name": "stdout",
     "output_type": "stream",
     "text": [
      "Epoch 1/100\n",
      "250/250 [==============================] - 102s 370ms/step - loss: 0.5590 - accuracy: 0.1680 - val_loss: 1.7691 - val_accuracy: 0.4884\n",
      "Epoch 2/100\n",
      "250/250 [==============================] - 91s 365ms/step - loss: 0.5386 - accuracy: 0.1856 - val_loss: 1.3391 - val_accuracy: 0.3739\n",
      "Epoch 3/100\n",
      "250/250 [==============================] - 91s 366ms/step - loss: 0.5355 - accuracy: 0.1847 - val_loss: 0.5825 - val_accuracy: 0.3484\n",
      "Epoch 4/100\n",
      "250/250 [==============================] - 97s 387ms/step - loss: 0.5336 - accuracy: 0.1933 - val_loss: 0.5353 - val_accuracy: 0.2248\n",
      "Epoch 5/100\n",
      "250/250 [==============================] - 97s 385ms/step - loss: 0.5323 - accuracy: 0.1927 - val_loss: 0.5382 - val_accuracy: 0.2103\n",
      "Epoch 6/100\n",
      "250/250 [==============================] - 97s 386ms/step - loss: 0.5316 - accuracy: 0.1972 - val_loss: 0.5345 - val_accuracy: 0.2412\n",
      "Epoch 7/100\n",
      "250/250 [==============================] - 96s 385ms/step - loss: 0.5307 - accuracy: 0.1947 - val_loss: 0.5333 - val_accuracy: 0.2702\n",
      "Epoch 8/100\n",
      "250/250 [==============================] - 97s 386ms/step - loss: 0.5300 - accuracy: 0.2001 - val_loss: 0.5413 - val_accuracy: 0.2162\n",
      "Epoch 9/100\n",
      "250/250 [==============================] - 92s 366ms/step - loss: 0.5292 - accuracy: 0.1974 - val_loss: 0.5296 - val_accuracy: 0.2247\n",
      "Epoch 10/100\n",
      "250/250 [==============================] - 97s 387ms/step - loss: 0.5287 - accuracy: 0.2111 - val_loss: 0.5337 - val_accuracy: 0.2233\n",
      "Epoch 11/100\n",
      "250/250 [==============================] - 97s 385ms/step - loss: 0.5281 - accuracy: 0.2078 - val_loss: 0.5345 - val_accuracy: 0.2026\n",
      "Epoch 12/100\n",
      "250/250 [==============================] - 97s 386ms/step - loss: 0.5274 - accuracy: 0.2120 - val_loss: 0.5299 - val_accuracy: 0.2338\n",
      "Epoch 13/100\n",
      "250/250 [==============================] - 96s 385ms/step - loss: 0.5271 - accuracy: 0.2137 - val_loss: 0.5272 - val_accuracy: 0.1605\n",
      "Epoch 14/100\n",
      "250/250 [==============================] - 97s 387ms/step - loss: 0.5264 - accuracy: 0.2044 - val_loss: 0.5356 - val_accuracy: 0.2338\n",
      "Epoch 15/100\n",
      "250/250 [==============================] - 91s 365ms/step - loss: 0.5260 - accuracy: 0.2157 - val_loss: 0.5362 - val_accuracy: 0.2512\n",
      "Epoch 16/100\n",
      "250/250 [==============================] - 96s 386ms/step - loss: 0.5253 - accuracy: 0.2210 - val_loss: 0.5370 - val_accuracy: 0.2594\n",
      "Epoch 17/100\n",
      "250/250 [==============================] - 91s 364ms/step - loss: 0.5250 - accuracy: 0.2242 - val_loss: 0.5301 - val_accuracy: 0.2643\n",
      "Epoch 18/100\n",
      "250/250 [==============================] - 97s 386ms/step - loss: 0.5245 - accuracy: 0.2304 - val_loss: 0.5285 - val_accuracy: 0.1638\n"
     ]
    }
   ],
   "source": [
    "startTime = time.time()\n",
    "history = model.fit(X_train, y_train, epochs=100, batch_size=256, verbose=1, validation_split=0.2, callbacks=[es])"
   ]
  },
  {
   "cell_type": "code",
   "execution_count": 20,
   "id": "fc95d2c8",
   "metadata": {},
   "outputs": [
    {
     "name": "stdout",
     "output_type": "stream",
     "text": [
      "Execution time in seconds for model: 1719.4026618003845\n"
     ]
    }
   ],
   "source": [
    "executionTime = (time.time() - startTime)\n",
    "print('Execution time in seconds for model: ' + str(executionTime))"
   ]
  },
  {
   "cell_type": "code",
   "execution_count": 21,
   "id": "25f65e8f",
   "metadata": {},
   "outputs": [
    {
     "name": "stdout",
     "output_type": "stream",
     "text": [
      "115/115 [==============================] - 8s 67ms/step - loss: 0.5290 - accuracy: 0.1629\n"
     ]
    },
    {
     "data": {
      "text/plain": [
       "[0.5289643406867981, 0.1628500074148178]"
      ]
     },
     "execution_count": 21,
     "metadata": {},
     "output_type": "execute_result"
    }
   ],
   "source": [
    "model.evaluate(X_test, y_test, batch_size=175, verbose=1)"
   ]
  },
  {
   "cell_type": "code",
   "execution_count": 22,
   "id": "438fd6e1",
   "metadata": {},
   "outputs": [
    {
     "name": "stdout",
     "output_type": "stream",
     "text": [
      "[2.8668204e-01 1.8794081e-01 5.1728811e-02 5.1537156e-03 5.0612052e-05\n",
      " 4.6844408e-01]\n",
      "[1. 0. 0. 0. 0. 0.]\n"
     ]
    }
   ],
   "source": [
    "predictions = model.predict(X_test)\n",
    "print(predictions[1])\n",
    "print(y_test[1])"
   ]
  },
  {
   "cell_type": "code",
   "execution_count": 23,
   "id": "1021e711",
   "metadata": {},
   "outputs": [
    {
     "data": {
      "text/plain": [
       "Text(0,0.5,'Loss Value')"
      ]
     },
     "execution_count": 23,
     "metadata": {},
     "output_type": "execute_result"
    },
    {
     "data": {
      "image/png": "[encoded data removed]",
      "text/plain": [
       "<matplotlib.figure.Figure at 0x7e64a54b00>"
      ]
     },
     "metadata": {
      "needs_background": "light"
     },
     "output_type": "display_data"
    }
   ],
   "source": [
    "plt.plot(history.history['loss'], label='loss')\n",
    "plt.plot(history.history['val_loss'], label='validation')\n",
    "plt.legend()\n",
    "plt.xlabel('Epoch')\n",
    "plt.ylabel('Loss Value')"
   ]
  }
 ],
 "metadata": {
  "kernelspec": {
   "display_name": "Python 3",
   "language": "python",
   "name": "python3"
  },
  "language_info": {
   "codemirror_mode": {
    "name": "ipython",
    "version": 3
   },
   "file_extension": ".py",
   "mimetype": "text/x-python",
   "name": "python",
   "nbconvert_exporter": "python",
   "pygments_lexer": "ipython3",
   "version": "3.6.9"
  }
 },
 "nbformat": 4,
 "nbformat_minor": 5
}
