{
 "cells": [
  {
   "cell_type": "code",
   "execution_count": 1,
   "id": "16132880",
   "metadata": {},
   "outputs": [],
   "source": [
    "import chess\n",
    "import numpy as np"
   ]
  },
  {
   "cell_type": "code",
   "execution_count": 2,
   "id": "e2ed73cd",
   "metadata": {},
   "outputs": [],
   "source": [
    "board = chess.Board('rnb1k2r/ppp2ppp/5n2/3q4/1b1P4/2N5/PP3PPP/R1BQKBNR')\n",
    "\n",
    "black = chess.BLACK\n",
    "white = chess.WHITE\n",
    "\n",
    "p = chess.PAWN\n",
    "n = chess.KNIGHT\n",
    "b = chess.BISHOP\n",
    "r = chess.ROOK\n",
    "q = chess.QUEEN\n",
    "k = chess.KING\n",
    "\n",
    "piece_list = [p, n, b, r, q, k]"
   ]
  },
  {
   "cell_type": "code",
   "execution_count": 3,
   "id": "8c50cd91",
   "metadata": {},
   "outputs": [],
   "source": [
    "def is_piece_under_attack(board_config, piece_list, def_color, atk_color):\n",
    "    np_label = np.zeros(6)\n",
    "    \n",
    "    board = chess.Board(board_config)\n",
    "    \n",
    "    for piece_type in piece_list:\n",
    "        piece_pos = board.pieces(piece_type=piece_type, color=def_color)\n",
    "        #print(f'We are looking at the white {chess.piece_name(piece_type)}:\\n\\n{board}\\n\\n{piece_pos}\\n')\n",
    "        \n",
    "        for piece in piece_pos:\n",
    "            if board.is_attacked_by(atk_color, square=piece):\n",
    "                #print('True')\n",
    "                np_label[piece_type-1] = 1\n",
    "                #print(np_label)\n",
    "                \n",
    "        #print('-'*19, '\\n')\n",
    "    return board, np_label"
   ]
  },
  {
   "cell_type": "code",
   "execution_count": 4,
   "id": "576c537a",
   "metadata": {},
   "outputs": [],
   "source": [
    "x, y = is_piece_under_attack('rnb1k2r/ppp2ppp/5n2/3q4/1b1P4/2N5/PP3PPP/R1BQKBNR', piece_list, white, black)"
   ]
  },
  {
   "cell_type": "code",
   "execution_count": 6,
   "id": "fd296f4e",
   "metadata": {},
   "outputs": [],
   "source": [
    "def test_labeling_loop(fname):\n",
    "    #counter = 0\n",
    "    board_label_list = []\n",
    "    with open(fname) as f:\n",
    "        board_list = f.read().splitlines()\n",
    "        \n",
    "    for single_board in board_list:\n",
    "        #print(f'Loop {counter}\\n')\n",
    "        board, board_label = is_piece_under_attack(single_board, piece_list, white, black)\n",
    "        #print(f'The board looks like this:\\n{board}\\nand the label look like this:\\n{board_label}')\n",
    "        #print('-'*19, '\\n')\n",
    "        #counter += 1\n",
    "        #print(type(board_label))\n",
    "        #if counter == 1:\n",
    "        #    break\n",
    "        board_label_list.append(board_label)\n",
    "    return board_label_list"
   ]
  },
  {
   "cell_type": "code",
   "execution_count": 7,
   "id": "2361de44",
   "metadata": {},
   "outputs": [],
   "source": [
    "file = '/home/Chess-Piece-Threat-Detection/dataset/data.txt'\n",
    "loop_board_label = test_labeling_loop(file)"
   ]
  },
  {
   "cell_type": "code",
   "execution_count": 8,
   "id": "872430cd",
   "metadata": {},
   "outputs": [],
   "source": [
    "np.save('/home/Chess-Piece-Threat-Detection/dataset/int-boards/data_labels', loop_board_label)"
   ]
  },
  {
   "cell_type": "code",
   "execution_count": 9,
   "id": "35bd7291",
   "metadata": {},
   "outputs": [],
   "source": [
    "pickel = '/home/Chess-Piece-Threat-Detection/dataset/int-boards/data_labels.npy'"
   ]
  },
  {
   "cell_type": "code",
   "execution_count": 10,
   "id": "c9e5a1ae",
   "metadata": {},
   "outputs": [],
   "source": [
    "foobar = np.load(pickel)"
   ]
  }
 ],
 "metadata": {
  "kernelspec": {
   "display_name": "Python 3",
   "language": "python",
   "name": "python3"
  },
  "language_info": {
   "codemirror_mode": {
    "name": "ipython",
    "version": 3
   },
   "file_extension": ".py",
   "mimetype": "text/x-python",
   "name": "python",
   "nbconvert_exporter": "python",
   "pygments_lexer": "ipython3",
   "version": "3.6.9"
  }
 },
 "nbformat": 4,
 "nbformat_minor": 5
}
