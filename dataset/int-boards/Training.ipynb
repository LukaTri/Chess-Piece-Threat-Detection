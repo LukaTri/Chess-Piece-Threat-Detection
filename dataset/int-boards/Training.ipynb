{
 "cells": [
  {
   "cell_type": "code",
   "execution_count": 1,
   "id": "88291900",
   "metadata": {},
   "outputs": [],
   "source": [
    "import numpy as np\n",
    "import matplotlib.pyplot as plt\n",
    "import tensorflow as tf\n",
    "from tensorflow import keras\n",
    "from tensorflow.keras.layers import Dense, Conv2D, Flatten\n",
    "from tensorflow.keras.callbacks import EarlyStopping\n",
    "from sklearn.model_selection import train_test_split"
   ]
  },
  {
   "cell_type": "code",
   "execution_count": 2,
   "id": "bf5f1f4a",
   "metadata": {},
   "outputs": [],
   "source": [
    "X_filepath = '/home/Chess-Piece-Threat-Detection/dataset/int-boards/data.npy'\n",
    "y_filepath = '/home/Chess-Piece-Threat-Detection/dataset/int-boards/data_labels.npy'"
   ]
  },
  {
   "cell_type": "code",
   "execution_count": 3,
   "id": "71413496",
   "metadata": {},
   "outputs": [],
   "source": [
    "y = np.load(y_filepath)\n",
    "X = np.load(X_filepath)"
   ]
  },
  {
   "cell_type": "code",
   "execution_count": 4,
   "id": "b67193e5",
   "metadata": {},
   "outputs": [],
   "source": [
    "X_train, X_test, y_train, y_test = train_test_split(X, y, test_size=0.2, random_state=42)"
   ]
  },
  {
   "cell_type": "code",
   "execution_count": 5,
   "id": "abf1533f",
   "metadata": {},
   "outputs": [],
   "source": [
    "X_train = X_train / 5\n",
    "X_test = X_test / 5"
   ]
  },
  {
   "cell_type": "code",
   "execution_count": 6,
   "id": "bcf095b5",
   "metadata": {},
   "outputs": [
    {
     "name": "stdout",
     "output_type": "stream",
     "text": [
      "X_train: (80000, 8, 8)\n",
      "X_test:\t (10000, 8, 8)\n",
      "X_val:\t (10000, 8, 8)\n"
     ]
    }
   ],
   "source": [
    "#validation is first 10k\n",
    "X_val = X_test[:10000]\n",
    "#training is 10k+\n",
    "X_test = X_test[10000:]\n",
    "\n",
    "y_val = y_test[:10000]\n",
    "y_test = y_test[10000:]\n",
    "print('X_train:', X_train.shape)\n",
    "print('X_test:\\t', X_test.shape)\n",
    "print('X_val:\\t', X_val.shape)"
   ]
  },
  {
   "cell_type": "code",
   "execution_count": 7,
   "id": "7ada4a23",
   "metadata": {},
   "outputs": [],
   "source": [
    "X_train = X_train.reshape(80000, 8, 8, 1)\n",
    "X_test = X_test.reshape(10000, 8, 8, 1)\n",
    "X_val = X_val.reshape(10000, 8, 8, 1)"
   ]
  },
  {
   "cell_type": "code",
   "execution_count": 8,
   "id": "d2efc3c5",
   "metadata": {},
   "outputs": [],
   "source": [
    "model = keras.Sequential()\n",
    "model.add(Conv2D(128, input_shape=(8, 8, 1), padding='same', kernel_size=4, activation='LeakyReLU'))\n",
    "model.add(Conv2D(128, kernel_size=4, padding='same', activation='LeakyReLU'))\n",
    "model.add(Conv2D(32, kernel_size=4, padding='same', activation='LeakyReLU'))\n",
    "model.add(Flatten())\n",
    "#model.add(Dense(1024, activation='relu'))\n",
    "#model.add(Dense(512, activation='relu'))\n",
    "model.add(Dense(6, activation='softmax'))"
   ]
  },
  {
   "cell_type": "code",
   "execution_count": 9,
   "id": "abb0ba5f",
   "metadata": {},
   "outputs": [
    {
     "name": "stdout",
     "output_type": "stream",
     "text": [
      "Model: \"sequential\"\n",
      "_________________________________________________________________\n",
      "Layer (type)                 Output Shape              Param #   \n",
      "=================================================================\n",
      "conv2d (Conv2D)              (None, 8, 8, 128)         2176      \n",
      "_________________________________________________________________\n",
      "conv2d_1 (Conv2D)            (None, 8, 8, 128)         262272    \n",
      "_________________________________________________________________\n",
      "conv2d_2 (Conv2D)            (None, 8, 8, 32)          65568     \n",
      "_________________________________________________________________\n",
      "flatten (Flatten)            (None, 2048)              0         \n",
      "_________________________________________________________________\n",
      "dense (Dense)                (None, 6)                 12294     \n",
      "=================================================================\n",
      "Total params: 342,310\n",
      "Trainable params: 342,310\n",
      "Non-trainable params: 0\n",
      "_________________________________________________________________\n"
     ]
    }
   ],
   "source": [
    "es = EarlyStopping(monitor='val_loss', patience=5)\n",
    "model.summary()"
   ]
  },
  {
   "cell_type": "code",
   "execution_count": 10,
   "id": "80e259f5",
   "metadata": {},
   "outputs": [],
   "source": [
    "model.compile(loss='binary_crossentropy', optimizer='adam', metrics=['accuracy'])"
   ]
  },
  {
   "cell_type": "code",
   "execution_count": null,
   "id": "0441f0f9",
   "metadata": {},
   "outputs": [
    {
     "name": "stdout",
     "output_type": "stream",
     "text": [
      "Epoch 1/100\n",
      "313/313 [==============================] - 148s 395ms/step - loss: 0.5541 - accuracy: 0.1773 - val_loss: 0.5348 - val_accuracy: 0.1999\n",
      "Epoch 2/100\n",
      "313/313 [==============================] - 119s 381ms/step - loss: 0.5261 - accuracy: 0.2059 - val_loss: 0.5236 - val_accuracy: 0.2215\n",
      "Epoch 3/100\n",
      "313/313 [==============================] - 120s 384ms/step - loss: 0.5038 - accuracy: 0.2281 - val_loss: 0.5098 - val_accuracy: 0.3236\n",
      "Epoch 4/100\n",
      "313/313 [==============================] - 120s 383ms/step - loss: 0.4894 - accuracy: 0.2436 - val_loss: 0.4912 - val_accuracy: 0.3413\n",
      "Epoch 5/100\n",
      "186/313 [================>.............] - ETA: 46s - loss: 0.4811 - accuracy: 0.2576"
     ]
    }
   ],
   "source": [
    "history = model.fit(X_train, y_train, epochs=100, batch_size=256, verbose=1, validation_data=(X_val, y_val), callbacks=[es])"
   ]
  },
  {
   "cell_type": "code",
   "execution_count": null,
   "id": "9f593829",
   "metadata": {},
   "outputs": [],
   "source": [
    "model.evaluate(X_test, y_test, batch_size=175, verbose=1)"
   ]
  },
  {
   "cell_type": "code",
   "execution_count": null,
   "id": "6d8539bd",
   "metadata": {},
   "outputs": [],
   "source": [
    "predictions = model.predict(X_test)\n",
    "print(predictions[0])\n",
    "print(y_test[0])"
   ]
  },
  {
   "cell_type": "code",
   "execution_count": null,
   "id": "41aaa987",
   "metadata": {},
   "outputs": [],
   "source": [
    "plt.plot(history.history['loss'], label='loss')\n",
    "plt.plot(history.history['val_loss'], label='validation')\n",
    "plt.legend()\n",
    "plt.xlabel('Epoch')\n",
    "plt.ylabel('Loss Value')"
   ]
  },
  {
   "cell_type": "code",
   "execution_count": null,
   "id": "35656470",
   "metadata": {},
   "outputs": [],
   "source": []
  }
 ],
 "metadata": {
  "kernelspec": {
   "display_name": "Python 3",
   "language": "python",
   "name": "python3"
  },
  "language_info": {
   "codemirror_mode": {
    "name": "ipython",
    "version": 3
   },
   "file_extension": ".py",
   "mimetype": "text/x-python",
   "name": "python",
   "nbconvert_exporter": "python",
   "pygments_lexer": "ipython3",
   "version": "3.6.9"
  }
 },
 "nbformat": 4,
 "nbformat_minor": 5
}
