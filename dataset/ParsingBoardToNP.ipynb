{
 "cells": [
  {
   "cell_type": "code",
   "execution_count": 1,
   "id": "dbc9eb62",
   "metadata": {},
   "outputs": [],
   "source": [
    "import tensorflow as tf\n",
    "import numpy as np\n",
    "import os\n",
    "import chess"
   ]
  },
  {
   "cell_type": "code",
   "execution_count": 2,
   "id": "53660ce0",
   "metadata": {},
   "outputs": [],
   "source": [
    "def convert_to_int(board):\n",
    "    indices = '♚♛♜♝♞♟⭘♙♘♗♖♕♔'\n",
    "    unicode = board.unicode()\n",
    "    return np.array([\n",
    "        [indices.index(c)-6 for c in row.split()]\n",
    "        for row in unicode.split('\\n')\n",
    "    ])"
   ]
  },
  {
   "cell_type": "code",
   "execution_count": 3,
   "id": "fcdf1902",
   "metadata": {},
   "outputs": [],
   "source": [
    "def board_pos_to_chess_model(fname):\n",
    "    with open(fname) as f:\n",
    "        board_list = f.read().splitlines()\n",
    "        \n",
    "        final_board_list = []\n",
    "    for single_board in board_list:\n",
    "        chess_board = chess.Board(single_board)\n",
    "        int_board = convert_to_int(chess_board)\n",
    "        final_board_list.append(int_board)\n",
    "        \n",
    "    return final_board_list"
   ]
  },
  {
   "cell_type": "code",
   "execution_count": 11,
   "id": "b07811a8",
   "metadata": {},
   "outputs": [],
   "source": [
    "test_file = '/home/Chess-Piece-Threat-Detection/dataset/test.txt'\n",
    "train_file = '/home/Chess-Piece-Threat-Detection/dataset/train.txt'\n",
    "data_file = '/home/Chess-Piece-Threat-Detection/dataset/data.txt'"
   ]
  },
  {
   "cell_type": "code",
   "execution_count": 12,
   "id": "cd0e1731",
   "metadata": {},
   "outputs": [],
   "source": [
    "data_list = board_pos_to_chess_model(data_file)"
   ]
  },
  {
   "cell_type": "code",
   "execution_count": 13,
   "id": "57b429a5",
   "metadata": {},
   "outputs": [],
   "source": [
    "#testing_list = board_pos_to_chess_model(test_file)"
   ]
  },
  {
   "cell_type": "code",
   "execution_count": 14,
   "id": "cac7682b",
   "metadata": {},
   "outputs": [],
   "source": [
    "#training_list = board_pos_to_chess_model(train_file)"
   ]
  },
  {
   "cell_type": "code",
   "execution_count": 15,
   "id": "f8cd5539",
   "metadata": {},
   "outputs": [],
   "source": [
    "#np_testing_list = np.asarray(testing_list)\n",
    "#np_training_list = np.asarray(training_list)\n",
    "np_data_list = np.asarray(data_list)"
   ]
  },
  {
   "cell_type": "code",
   "execution_count": 16,
   "id": "13febdb1",
   "metadata": {},
   "outputs": [
    {
     "name": "stdout",
     "output_type": "stream",
     "text": [
      "The shape of training list is (100000, 8, 8) and its size is 6400000\n"
     ]
    }
   ],
   "source": [
    "#print(f'The shape of testing list is {np_testing_list.shape} and its size is {np_testing_list.size}')\n",
    "#print(f'The shape of training list is {np_training_list.shape} and its size is {np_training_list.size}')\n",
    "print(f'The shape of training list is {np_data_list.shape} and its size is {np_data_list.size}')"
   ]
  },
  {
   "cell_type": "code",
   "execution_count": 19,
   "id": "7bc11f35",
   "metadata": {},
   "outputs": [],
   "source": [
    "#np.savez('/home/Chess-Piece-Threat-Detection/dataset/test', np_testing_list)\n",
    "#np.savez('/home/Chess-Piece-Threat-Detection/dataset/train', np_training_list)\n",
    "np.save('/home/Chess-Piece-Threat-Detection/dataset/int-boards/data', np_data_list)"
   ]
  },
  {
   "cell_type": "code",
   "execution_count": null,
   "id": "b854909e",
   "metadata": {},
   "outputs": [],
   "source": []
  }
 ],
 "metadata": {
  "kernelspec": {
   "display_name": "Python 3",
   "language": "python",
   "name": "python3"
  },
  "language_info": {
   "codemirror_mode": {
    "name": "ipython",
    "version": 3
   },
   "file_extension": ".py",
   "mimetype": "text/x-python",
   "name": "python",
   "nbconvert_exporter": "python",
   "pygments_lexer": "ipython3",
   "version": "3.6.9"
  }
 },
 "nbformat": 4,
 "nbformat_minor": 5
}
